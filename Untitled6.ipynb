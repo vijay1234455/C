{
  "nbformat": 4,
  "nbformat_minor": 0,
  "metadata": {
    "colab": {
      "name": "Untitled6.ipynb",
      "provenance": [],
      "collapsed_sections": [],
      "authorship_tag": "ABX9TyNlVNVxH7fk2S89A00cJfAQ",
      "include_colab_link": true
    },
    "kernelspec": {
      "name": "python3",
      "display_name": "Python 3"
    },
    "language_info": {
      "name": "python"
    }
  },
  "cells": [
    {
      "cell_type": "markdown",
      "metadata": {
        "id": "view-in-github",
        "colab_type": "text"
      },
      "source": [
        "<a href=\"https://colab.research.google.com/github/vijay1234455/C/blob/main/Untitled6.ipynb\" target=\"_parent\"><img src=\"https://colab.research.google.com/assets/colab-badge.svg\" alt=\"Open In Colab\"/></a>"
      ]
    },
    {
      "cell_type": "code",
      "execution_count": 21,
      "metadata": {
        "colab": {
          "base_uri": "https://localhost:8080/"
        },
        "id": "AlpEZTUGRn3I",
        "outputId": "a02140c2-db91-4efc-afac-bf2bb5380537"
      },
      "outputs": [
        {
          "output_type": "stream",
          "name": "stdout",
          "text": [
            "vijay from dornipadu\n"
          ]
        }
      ],
      "source": [
        "f=open(\"vijay.txt\",'w')\n",
        "f.write(\"vijay from dornipadu\")\n",
        "f.close()\n",
        "f=open(\"vijay.txt\",\"r\")\n",
        "f.read()\n",
        "f.close()\n",
        "f=open(\"vijay.txt\",\"r\")\n",
        "f.read(4)\n",
        "f.read(10)\n",
        "f.close()\n",
        "f=open(\"vijay.txt\",\"r\")\n",
        "for line in f:\n",
        "  print(line)\n",
        "f.close()\n",
        "f=open(\"vijay.txt\",\"a\")\n",
        "f.write(\"\\n Ajay is the owner of palace\")\n",
        "f.close()\n",
        "f=open(\"vijay.txt\",\"r\")\n",
        "f.read()\n",
        "f.close()\n",
        "f=open(\"vijay.txt\",\"r\")\n",
        "f.readline() # it returns the sentence until the new line \\n\n",
        "f.readlines()# it returns the remaining lines from the file\n",
        "f.close()"
      ]
    },
    {
      "cell_type": "code",
      "source": [
        "f=open(\"vijay.txt\",'w')\n",
        "f.write(\"vijay from dornipadu\")\n",
        "f.close()\n",
        "f=open(\"vijay.txt\")\n",
        "f.read()\n",
        "import os\n",
        "os.rename(\"vijay.txt\",\"hack.txt\")\n",
        "f=open(\"hack.txt\")\n",
        "f.read()\n",
        "os.remove(\"hack.txt\")\n",
        "f=open(\"hack.txt\")\n",
        "f.read()\n",
        "\n"
      ],
      "metadata": {
        "colab": {
          "base_uri": "https://localhost:8080/",
          "height": 237
        },
        "id": "BvUTa5E3tk5l",
        "outputId": "18d3d5b5-215f-41fb-eba3-62ca9b1bfa71"
      },
      "execution_count": 42,
      "outputs": [
        {
          "output_type": "error",
          "ename": "FileNotFoundError",
          "evalue": "ignored",
          "traceback": [
            "\u001b[0;31m---------------------------------------------------------------------------\u001b[0m",
            "\u001b[0;31mFileNotFoundError\u001b[0m                         Traceback (most recent call last)",
            "\u001b[0;32m<ipython-input-42-aed70883acc9>\u001b[0m in \u001b[0;36m<module>\u001b[0;34m()\u001b[0m\n\u001b[1;32m      9\u001b[0m \u001b[0mf\u001b[0m\u001b[0;34m.\u001b[0m\u001b[0mread\u001b[0m\u001b[0;34m(\u001b[0m\u001b[0;34m)\u001b[0m\u001b[0;34m\u001b[0m\u001b[0;34m\u001b[0m\u001b[0m\n\u001b[1;32m     10\u001b[0m \u001b[0mos\u001b[0m\u001b[0;34m.\u001b[0m\u001b[0mremove\u001b[0m\u001b[0;34m(\u001b[0m\u001b[0;34m\"hack.txt\"\u001b[0m\u001b[0;34m)\u001b[0m\u001b[0;34m\u001b[0m\u001b[0;34m\u001b[0m\u001b[0m\n\u001b[0;32m---> 11\u001b[0;31m \u001b[0mf\u001b[0m\u001b[0;34m=\u001b[0m\u001b[0mopen\u001b[0m\u001b[0;34m(\u001b[0m\u001b[0;34m\"hack.txt\"\u001b[0m\u001b[0;34m)\u001b[0m\u001b[0;34m\u001b[0m\u001b[0;34m\u001b[0m\u001b[0m\n\u001b[0m\u001b[1;32m     12\u001b[0m \u001b[0mf\u001b[0m\u001b[0;34m.\u001b[0m\u001b[0mread\u001b[0m\u001b[0;34m(\u001b[0m\u001b[0;34m)\u001b[0m\u001b[0;34m\u001b[0m\u001b[0;34m\u001b[0m\u001b[0m\n\u001b[1;32m     13\u001b[0m \u001b[0;34m\u001b[0m\u001b[0m\n",
            "\u001b[0;31mFileNotFoundError\u001b[0m: [Errno 2] No such file or directory: 'hack.txt'"
          ]
        }
      ]
    }
  ]
}